{
  "nbformat": 4,
  "nbformat_minor": 0,
  "metadata": {
    "colab": {
      "provenance": [],
      "authorship_tag": "ABX9TyMPZHisnM2DaGuiZu0RLjXC",
      "include_colab_link": true
    },
    "kernelspec": {
      "name": "python3",
      "display_name": "Python 3"
    },
    "language_info": {
      "name": "python"
    }
  },
  "cells": [
    {
      "cell_type": "markdown",
      "metadata": {
        "id": "view-in-github",
        "colab_type": "text"
      },
      "source": [
        "<a href=\"https://colab.research.google.com/github/kuoootina/aop113/blob/main/EX01_04_%E7%B5%82%E6%A5%B5%E5%AF%86%E7%A2%BC.ipynb\" target=\"_parent\"><img src=\"https://colab.research.google.com/assets/colab-badge.svg\" alt=\"Open In Colab\"/></a>"
      ]
    },
    {
      "cell_type": "code",
      "source": [
        "import random\n",
        "bomb = random.randint(1,99) #炸彈是隨機數字\n",
        "\n",
        "lf = 0                      #左邊界是0\n",
        "rt = 100                    #右邊界是100\n",
        "\n",
        "while True:\n",
        "     print(lf, '-', rt)\n",
        "     gu = int(input('guess:'))\n",
        "     if gu <= lf or gu >= rt:\n",
        "          print('超過範圍')     #小於等於左邊界或大於等於右邊界均為超過範圍\n",
        "          continue\n",
        "     elif gu < bomb:\n",
        "          lf = gu\n",
        "     elif gu > bomb:\n",
        "          rt = gu\n",
        "     else:\n",
        "          print('猜中了')\n",
        "          break"
      ],
      "metadata": {
        "colab": {
          "base_uri": "https://localhost:8080/"
        },
        "id": "_HLozMIIyYYA",
        "outputId": "aa386901-f8f0-4fb2-f2ba-0fdeb03c061b"
      },
      "execution_count": 4,
      "outputs": [
        {
          "output_type": "stream",
          "name": "stdout",
          "text": [
            "0 - 100\n",
            "guess:47\n",
            "0 - 47\n",
            "guess:33\n",
            "0 - 33\n",
            "guess:21\n",
            "0 - 21\n",
            "guess:3\n",
            "3 - 21\n",
            "guess:17\n",
            "17 - 21\n",
            "guess:19\n",
            "17 - 19\n",
            "guess:18\n",
            "猜中了\n"
          ]
        }
      ]
    }
  ]
}