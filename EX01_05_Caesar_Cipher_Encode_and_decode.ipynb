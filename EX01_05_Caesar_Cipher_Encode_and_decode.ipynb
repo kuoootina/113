{
  "nbformat": 4,
  "nbformat_minor": 0,
  "metadata": {
    "colab": {
      "provenance": [],
      "authorship_tag": "ABX9TyOPHN2CDsArUUFZdcS3dqLe",
      "include_colab_link": true
    },
    "kernelspec": {
      "name": "python3",
      "display_name": "Python 3"
    },
    "language_info": {
      "name": "python"
    }
  },
  "cells": [
    {
      "cell_type": "markdown",
      "metadata": {
        "id": "view-in-github",
        "colab_type": "text"
      },
      "source": [
        "<a href=\"https://colab.research.google.com/github/kuoootina/aop113/blob/main/EX01_05_Caesar_Cipher_Encode_and_decode.ipynb\" target=\"_parent\"><img src=\"https://colab.research.google.com/assets/colab-badge.svg\" alt=\"Open In Colab\"/></a>"
      ]
    },
    {
      "cell_type": "code",
      "source": [
        "act = input()  #輸入加解密\n",
        "txt = input() #輸入想要加解密的文字\n",
        "\n",
        "act_type = act[0] #決定加密或解密\n",
        "key = int(act[1:])\n",
        "ntxt = ''\n",
        "\n",
        "if act_type == 'd': #等於d即為解密\n",
        "     for c in txt:         #c是原本字元的編號\n",
        "        nc = ord(c) - key\n",
        "        ntxt = ntxt + chr(nc)\n",
        "else:\n",
        "    for c in txt:\n",
        "        nc = ord(c) + key\n",
        "        ntxt = ntxt + chr(nc)\n",
        "\n",
        "print(ntxt) #輸出結果"
      ],
      "metadata": {
        "colab": {
          "base_uri": "https://localhost:8080/"
        },
        "id": "l9cOzCFQH-om",
        "outputId": "19301382-fee3-4c11-aa3a-0c05a40e39cf"
      },
      "execution_count": 16,
      "outputs": [
        {
          "output_type": "stream",
          "name": "stdout",
          "text": [
            "d7\n",
            "hi\n",
            "ab\n"
          ]
        }
      ]
    }
  ]
}